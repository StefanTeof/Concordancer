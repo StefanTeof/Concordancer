{
 "cells": [
  {
   "cell_type": "code",
   "execution_count": 1,
   "metadata": {},
   "outputs": [],
   "source": [
    "from fastapi import FastAPI, HTTPException\n",
    "from typing import List\n",
    "import spacy\n",
    "\n",
    "# Load the Macedonian language model\n",
    "nlp = spacy.load(\"mk_core_news_sm\")\n",
    "\n",
    "app = FastAPI()\n",
    "\n",
    "@app.post(\"/filter_sentences/\")\n",
    "async def filter_sentences(sentences: List[str], keyword: str, pos_category: str):\n",
    "    matching_sentences = []\n",
    "    for sentence in sentences:\n",
    "        doc = nlp(sentence)\n",
    "        for token in doc:\n",
    "            if token.text.lower() == keyword.lower() and pos_category.lower() in spacy.explain(token.pos_).lower():\n",
    "                matching_sentences.append(sentence)\n",
    "                break\n",
    "    return {\"matching_sentences\": matching_sentences}"
   ]
  },
  {
   "cell_type": "code",
   "execution_count": 2,
   "metadata": {},
   "outputs": [],
   "source": [
    "def pos_tag_sentences(sentences, keyword, pos_category):\n",
    "    matching_sentences = []\n",
    "    for sentence in sentences:\n",
    "        doc = nlp(sentence)\n",
    "        for token in doc:\n",
    "            if token.text.lower() == keyword.lower() and pos_category.lower() in spacy.explain(token.pos_).lower():\n",
    "                matching_sentences.append(sentence)\n",
    "                break\n",
    "    return {\"matching_sentences\": matching_sentences}"
   ]
  },
  {
   "cell_type": "code",
   "execution_count": 8,
   "metadata": {},
   "outputs": [],
   "source": [
    "sentences = [\n",
    "        \"Петар одлучи да се врати во Австралија за 2 недели.\",\n",
    "        \"Втора реченица за пример.\",\n",
    "        \"Ова е исто така трет документ.\",\n",
    "        \"Ова е тест датотека.\"\n",
    "    ]"
   ]
  },
  {
   "cell_type": "code",
   "execution_count": 9,
   "metadata": {},
   "outputs": [],
   "source": [
    "ms = pos_tag_sentences(sentences, keyword='документ', pos_category='noun')"
   ]
  },
  {
   "cell_type": "code",
   "execution_count": 10,
   "metadata": {},
   "outputs": [
    {
     "data": {
      "text/plain": [
       "{'matching_sentences': []}"
      ]
     },
     "execution_count": 10,
     "metadata": {},
     "output_type": "execute_result"
    }
   ],
   "source": [
    "ms"
   ]
  },
  {
   "cell_type": "code",
   "execution_count": null,
   "metadata": {},
   "outputs": [],
   "source": []
  }
 ],
 "metadata": {
  "kernelspec": {
   "display_name": "base",
   "language": "python",
   "name": "python3"
  },
  "language_info": {
   "codemirror_mode": {
    "name": "ipython",
    "version": 3
   },
   "file_extension": ".py",
   "mimetype": "text/x-python",
   "name": "python",
   "nbconvert_exporter": "python",
   "pygments_lexer": "ipython3",
   "version": "3.10.9"
  }
 },
 "nbformat": 4,
 "nbformat_minor": 2
}
