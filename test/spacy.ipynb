{
 "cells": [
  {
   "cell_type": "code",
   "execution_count": 1,
   "metadata": {},
   "outputs": [],
   "source": [
    "from fastapi import FastAPI, HTTPException\n",
    "from typing import List\n",
    "import spacy\n",
    "\n",
    "# Load the Macedonian language model\n",
    "nlp = spacy.load(\"mk_core_news_sm\")\n",
    "\n",
    "app = FastAPI()\n",
    "\n",
    "@app.post(\"/filter_sentences/\")\n",
    "async def filter_sentences(sentences: List[str], keyword: str, pos_category: str):\n",
    "    matching_sentences = []\n",
    "    for sentence in sentences:\n",
    "        doc = nlp(sentence)\n",
    "        for token in doc:\n",
    "            if token.text.lower() == keyword.lower() and pos_category.lower() in spacy.explain(token.pos_).lower():\n",
    "                matching_sentences.append(sentence)\n",
    "                break\n",
    "    return {\"matching_sentences\": matching_sentences}"
   ]
  },
  {
   "cell_type": "code",
   "execution_count": 7,
   "metadata": {},
   "outputs": [],
   "source": [
    "def pos_tag_text(text, keyword, pos_category):\n",
    "    results = []\n",
    "    doc = nlp(text)  # Process the whole text\n",
    "\n",
    "    for token in doc:  # Iterate over tokens in the document\n",
    "        # Check if the token matches the keyword and the specified part of speech category\n",
    "        if token.text.lower() == keyword.lower() and pos_category.lower() in spacy.explain(token.pos_).lower():\n",
    "            # Define the context window or simply split the text around the keyword\n",
    "            start_index = token.idx  # Start index of the keyword in the text\n",
    "            end_index = start_index + len(token.text)  # End index of the keyword in the text\n",
    "\n",
    "            # Extracting left and right context\n",
    "            left_context = text[max(0, start_index - 30):start_index].strip()  # 30 characters as an example window size\n",
    "            right_context = text[end_index:min(len(text), end_index + 30)].strip()  # Adjust context window as needed\n",
    "\n",
    "            results.append((left_context, token.text, right_context))\n",
    "    \n",
    "    return {\"occurrences\": results}"
   ]
  },
  {
   "cell_type": "code",
   "execution_count": 3,
   "metadata": {},
   "outputs": [],
   "source": [
    "sentences = [\n",
    "        \"Петар одлучи да се врати во Австралија за 2 недели.\",\n",
    "        \"Втора реченица за пример.\",\n",
    "        \"Ова е исто така трет документ.\",\n",
    "        \"Ова е тест датотека.\"\n",
    "    ]"
   ]
  },
  {
   "cell_type": "code",
   "execution_count": 8,
   "metadata": {},
   "outputs": [],
   "source": [
    "text = '''Патникот што му даде веленце на другарот.\n",
    "\n",
    "\n",
    "\n",
    "Си патувал еден патник од еден град во друг и се здружил со некој друг патник. Одејќи си двајцата така, се задал еден силен облак со дожд и гледајќи дека ќе врне многу дожд, му побарал едниот на другиот патник едно веленце (прекривка) да се наметнe, за да не го натопи дождот. Одејќи до некаде дождот престанал и патниците останале суви.\n",
    "\n",
    "— Ама ако не ти го дадев веленцето, пријателе, жива вода ќе се стореше — му рекол.\n",
    "\n",
    "— Ти благодарам пријателе што ми го даде веленцето и не наврнав. Многу ти благодарам! — рекол патникот.\n",
    "\n",
    "Пооди до некаде и пак ќе му речел.\n",
    "\n",
    "— А, пријателе? Да не ти го дадев веленцето, жива вода ќе се стореше.\n",
    "\n",
    "Пооди до негде, пак истото.\n",
    "\n",
    "Одејќи така дошле до една река и слегле да се одморат под сенките, а таму имало и други што се одморале. Во часот кога седнал меѓу луѓето, патникот почнал да се фали дека на другарот му го дал веленцето да не го наврне дождот. Речи, па речи, речи, па речи, па најпосле другар му се разлутил, станал од кај што седел па се фрлил во реката и се направил жива вода.\n",
    "\n",
    "— Е доста ме мачи бре чоече, со тоа твое палено веленце: „Веленцето ако не ти го дадев, дождот ќе те истопеше, веленцето ако не ти го дадев жива вода ќе станеше!“ Е, од олку повеќе ќе се истопев? Бре нечоек! На’, еве се истопив повеќе од што дождот ќе ме истопеше, само и само да те замолчам, да не ми се фалиш, оти ме пукна со тоа твое веленце што ми го даде! — му рекол на лутина, си го јавнал коњот, па си отишол по патот сам.'''"
   ]
  },
  {
   "cell_type": "code",
   "execution_count": 9,
   "metadata": {},
   "outputs": [],
   "source": [
    "ms = pos_tag_text(text, keyword='вода', pos_category='noun')"
   ]
  },
  {
   "cell_type": "code",
   "execution_count": 10,
   "metadata": {},
   "outputs": [
    {
     "data": {
      "text/plain": [
       "{'occurrences': [('ев веленцето, пријателе, жива',\n",
       "   'вода',\n",
       "   'ќе се стореше — му рекол.\\n\\n—'),\n",
       "  ('е ти го дадев веленцето, жива', 'вода', 'ќе се стореше.\\n\\nПооди до негд'),\n",
       "  ('во реката и се направил жива', 'вода', '.\\n\\n— Е доста ме мачи бре чоече'),\n",
       "  ('нцето ако не ти го дадев жива', 'вода', 'ќе станеше!“ Е, од олку повеќ')]}"
      ]
     },
     "execution_count": 10,
     "metadata": {},
     "output_type": "execute_result"
    }
   ],
   "source": [
    "ms"
   ]
  },
  {
   "cell_type": "code",
   "execution_count": null,
   "metadata": {},
   "outputs": [],
   "source": []
  }
 ],
 "metadata": {
  "kernelspec": {
   "display_name": "base",
   "language": "python",
   "name": "python3"
  },
  "language_info": {
   "codemirror_mode": {
    "name": "ipython",
    "version": 3
   },
   "file_extension": ".py",
   "mimetype": "text/x-python",
   "name": "python",
   "nbconvert_exporter": "python",
   "pygments_lexer": "ipython3",
   "version": "3.10.9"
  }
 },
 "nbformat": 4,
 "nbformat_minor": 2
}
