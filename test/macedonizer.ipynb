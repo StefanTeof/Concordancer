{
 "cells": [
  {
   "cell_type": "code",
   "execution_count": null,
   "metadata": {},
   "outputs": [],
   "source": [
    "import joblib\n",
    "from transformers import RobertaTokenizer, RobertaModel\n",
    "import torch\n",
    "import re\n",
    "import numpy as np\n",
    "import pandas as pd"
   ]
  },
  {
   "cell_type": "code",
   "execution_count": 1,
   "metadata": {},
   "outputs": [
    {
     "name": "stderr",
     "output_type": "stream",
     "text": [
      "Some weights of the model checkpoint at macedonizer/mk-roberta-base were not used when initializing RobertaModel: ['lm_head.dense.weight', 'lm_head.dense.bias', 'lm_head.layer_norm.weight', 'lm_head.bias', 'lm_head.decoder.weight', 'lm_head.layer_norm.bias', 'lm_head.decoder.bias']\n",
      "- This IS expected if you are initializing RobertaModel from the checkpoint of a model trained on another task or with another architecture (e.g. initializing a BertForSequenceClassification model from a BertForPreTraining model).\n",
      "- This IS NOT expected if you are initializing RobertaModel from the checkpoint of a model that you expect to be exactly identical (initializing a BertForSequenceClassification model from a BertForSequenceClassification model).\n",
      "Some weights of RobertaModel were not initialized from the model checkpoint at macedonizer/mk-roberta-base and are newly initialized: ['roberta.pooler.dense.weight', 'roberta.pooler.dense.bias']\n",
      "You should probably TRAIN this model on a down-stream task to be able to use it for predictions and inference.\n"
     ]
    }
   ],
   "source": [
    "# Initialize tokenizer and model\n",
    "tokenizer = RobertaTokenizer.from_pretrained('macedonizer/mk-roberta-base')\n",
    "model = RobertaModel.from_pretrained('macedonizer/mk-roberta-base')"
   ]
  },
  {
   "cell_type": "code",
   "execution_count": 33,
   "metadata": {},
   "outputs": [],
   "source": [
    "def remove_special_characters(text):\n",
    "    # Define a regular expression pattern to match the specified characters\n",
    "    pattern = r'[?.,!:;@#$%^&*()\\[\\]{}\\\\/|+\\-_=]'\n",
    "    \n",
    "    # Use the sub() function from the re module to replace matched characters with an empty string\n",
    "    cleaned_text = re.sub(pattern, '', text)\n",
    "    \n",
    "    return cleaned_text"
   ]
  },
  {
   "cell_type": "code",
   "execution_count": 2,
   "metadata": {},
   "outputs": [],
   "source": [
    "sentence = 'Јас сум тој и тој сум бил, замисли да не беше баш се што е денес, дали би продолжил?'"
   ]
  },
  {
   "cell_type": "code",
   "execution_count": 36,
   "metadata": {},
   "outputs": [],
   "source": [
    "sentence = remove_special_characters(sentence)"
   ]
  },
  {
   "cell_type": "code",
   "execution_count": 37,
   "metadata": {},
   "outputs": [],
   "source": [
    "\n",
    "# Assuming 'sentence' is your input text and 'model', 'tokenizer' are already defined and loaded\n",
    "inputs = tokenizer(sentence, return_tensors=\"pt\", padding=True, truncation=True, max_length=512)\n",
    "\n",
    "with torch.no_grad():\n",
    "    outputs = model(**inputs)\n",
    "\n",
    "# Extract sentence embedding\n",
    "sentence_embedding = outputs.last_hidden_state.mean(dim=1).squeeze().numpy().tolist()\n",
    "\n",
    "# Get all token embeddings\n",
    "all_token_embeddings = outputs.last_hidden_state.squeeze().numpy()\n",
    "\n",
    "words = sentence.replace(',', '').replace('?', '').split()  # Simple tokenization based on spaces and removing punctuation\n",
    "\n",
    "word_embeddings = []\n",
    "token_idx = 1  # Start from the first token (after [CLS])\n",
    "\n",
    "for word in words:\n",
    "    token_embeddings = []\n",
    "    while token_idx < len(all_token_embeddings) - 1:  # Exclude [SEP] token\n",
    "        token_embedding = all_token_embeddings[token_idx]\n",
    "        token_text = tokenizer.decode(inputs['input_ids'][0, token_idx], clean_up_tokenization_spaces=True).strip()\n",
    "\n",
    "        if token_text == word or word.startswith(token_text):\n",
    "            token_embeddings.append(token_embedding)\n",
    "            token_idx += 1\n",
    "        else:\n",
    "            break\n",
    "    \n",
    "    if token_embeddings:\n",
    "        # Average token embeddings to get the word embedding\n",
    "        word_embedding = np.mean(token_embeddings, axis=0).tolist()\n",
    "        word_embeddings.append(word_embedding)\n",
    "\n",
    "# Prepare embeddings data with sentence embedding included for each word\n",
    "embeddings_data = [{\n",
    "    'word': word,\n",
    "    'sentence_embedding': sentence_embedding,  # Same for all words in the sentence\n",
    "    'word_embedding': word_embedding\n",
    "} for word, word_embedding in zip(words, word_embeddings)]\n",
    "\n",
    "# Now, 'embeddings_data' contains the necessary information for each word along with the shared sentence context\n"
   ]
  },
  {
   "cell_type": "code",
   "execution_count": 38,
   "metadata": {},
   "outputs": [],
   "source": [
    "\n",
    "df = pd.DataFrame(embeddings_data)"
   ]
  },
  {
   "cell_type": "code",
   "execution_count": 41,
   "metadata": {},
   "outputs": [],
   "source": [
    "embedding_cols = pd.DataFrame(df['sentence_embedding'].tolist(), columns=[f'sentence_embedding_{i}' for i in range(len(df['sentence_embedding'][0]))])\n",
    "\n",
    "# Concatenate the new columns with the original dataframe\n",
    "df = pd.concat([df, embedding_cols], axis=1)\n",
    "\n",
    "# Now, you can drop the original 'sentence_embedding' column if you don't need it anymore\n",
    "df.drop(columns=['sentence_embedding'], inplace=True)"
   ]
  },
  {
   "cell_type": "code",
   "execution_count": 43,
   "metadata": {},
   "outputs": [],
   "source": [
    "embedding_cols = pd.DataFrame(df['word_embedding'].tolist(), columns=[f'word_embedding_{i}' for i in range(len(df['word_embedding'][0]))])\n",
    "\n",
    "# Concatenate the new columns with the original dataframe\n",
    "df = pd.concat([df, embedding_cols], axis=1)\n",
    "\n",
    "# Now, you can drop the original 'sentence_embedding' column if you don't need it anymore\n",
    "df.drop(columns=['word_embedding'], inplace=True)"
   ]
  },
  {
   "cell_type": "code",
   "execution_count": 45,
   "metadata": {},
   "outputs": [],
   "source": [
    "log_model = joblib.load('../Models/logistic_regression_model.pkl')"
   ]
  },
  {
   "cell_type": "code",
   "execution_count": 51,
   "metadata": {},
   "outputs": [],
   "source": [
    "word_embeddings = np.array([data['word_embedding'] for data in embeddings_data])\n",
    "predicted_categories_indices = log_model.predict(df.iloc[:, 1:])\n",
    "categories = ['0', 'adjective', 'adposition', 'adverb', 'conjuction', 'noun', 'numeral', 'particle', 'pronoun', 'residual', 'verb']  # Example categories\n",
    "predicted_categories = [categories[index] for index in predicted_categories_indices]"
   ]
  },
  {
   "cell_type": "code",
   "execution_count": 52,
   "metadata": {},
   "outputs": [],
   "source": [
    "word_category_mappings = {data['word']: category for data, category in zip(embeddings_data, predicted_categories)}"
   ]
  },
  {
   "cell_type": "code",
   "execution_count": 53,
   "metadata": {},
   "outputs": [
    {
     "data": {
      "text/plain": [
       "{'Јас': 'particle',\n",
       " 'сум': 'verb',\n",
       " 'тој': 'pronoun',\n",
       " 'и': 'conjuction',\n",
       " 'бил': 'verb',\n",
       " 'замисли': 'verb',\n",
       " 'да': 'conjuction',\n",
       " 'не': 'pronoun',\n",
       " 'беше': 'verb',\n",
       " 'баш': 'adjective',\n",
       " 'се': 'adjective',\n",
       " 'што': 'adjective',\n",
       " 'е': 'verb',\n",
       " 'денес': 'adverb',\n",
       " 'дали': 'adverb',\n",
       " 'би': 'particle',\n",
       " 'продолжил': 'verb'}"
      ]
     },
     "execution_count": 53,
     "metadata": {},
     "output_type": "execute_result"
    }
   ],
   "source": [
    "word_category_mappings"
   ]
  },
  {
   "cell_type": "code",
   "execution_count": null,
   "metadata": {},
   "outputs": [],
   "source": []
  }
 ],
 "metadata": {
  "kernelspec": {
   "display_name": "base",
   "language": "python",
   "name": "python3"
  },
  "language_info": {
   "codemirror_mode": {
    "name": "ipython",
    "version": 3
   },
   "file_extension": ".py",
   "mimetype": "text/x-python",
   "name": "python",
   "nbconvert_exporter": "python",
   "pygments_lexer": "ipython3",
   "version": "3.10.9"
  }
 },
 "nbformat": 4,
 "nbformat_minor": 2
}
